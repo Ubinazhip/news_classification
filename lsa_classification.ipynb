{
  "nbformat": 4,
  "nbformat_minor": 0,
  "metadata": {
    "colab": {
      "name": "lsa_classification.ipynb",
      "provenance": [],
      "collapsed_sections": [
        "HqciZqHnT-27"
      ],
      "toc_visible": true
    },
    "kernelspec": {
      "name": "python3",
      "display_name": "Python 3"
    }
  },
  "cells": [
    {
      "cell_type": "code",
      "metadata": {
        "id": "eJOsUrunmxdH"
      },
      "source": [
        "import pandas as pd\n",
        "from sklearn.feature_extraction.text import TfidfVectorizer\n",
        "import nltk\n",
        "from nltk.tokenize import word_tokenize\n",
        "from nltk.corpus import wordnet\n",
        "from sklearn.neighbors import KNeighborsClassifier\n",
        "import seaborn as sns\n",
        "import warnings\n",
        "import matplotlib.pyplot as plt\n",
        "from sklearn.model_selection import GridSearchCV\n",
        "warnings.filterwarnings(\"ignore\")\n",
        "#sources:\n",
        "#https://www.machinelearningplus.com/nlp/lemmatization-examples-python/\n",
        "#https://github.com/chrisjmccormick/LSA_Classification/blob/master/runClassification_LSA.py\n",
        "#https://www.kaggle.com/c/learn-ai-bbc/data"
      ],
      "execution_count": 1,
      "outputs": []
    },
    {
      "cell_type": "code",
      "metadata": {
        "colab": {
          "base_uri": "https://localhost:8080/"
        },
        "id": "TQfKaUIanp-N",
        "outputId": "ff235ce0-6896-46c5-8737-ceb4e1e022ef"
      },
      "source": [
        "nltk.download('wordnet')\n",
        "nltk.download('averaged_perceptron_tagger')\n",
        "nltk.download('punkt')  "
      ],
      "execution_count": 2,
      "outputs": [
        {
          "output_type": "stream",
          "text": [
            "[nltk_data] Downloading package wordnet to /root/nltk_data...\n",
            "[nltk_data]   Unzipping corpora/wordnet.zip.\n",
            "[nltk_data] Downloading package averaged_perceptron_tagger to\n",
            "[nltk_data]     /root/nltk_data...\n",
            "[nltk_data]   Unzipping taggers/averaged_perceptron_tagger.zip.\n",
            "[nltk_data] Downloading package punkt to /root/nltk_data...\n",
            "[nltk_data]   Unzipping tokenizers/punkt.zip.\n"
          ],
          "name": "stdout"
        },
        {
          "output_type": "execute_result",
          "data": {
            "text/plain": [
              "True"
            ]
          },
          "metadata": {
            "tags": []
          },
          "execution_count": 2
        }
      ]
    },
    {
      "cell_type": "markdown",
      "metadata": {
        "id": "8-N_9Wg2rksK"
      },
      "source": [
        "# Read the data\n",
        "\n"
      ]
    },
    {
      "cell_type": "code",
      "metadata": {
        "id": "Zmw3Rt3enUcO"
      },
      "source": [
        "df_train = pd.read_csv('drive/MyDrive/learn-ai-bbc/BBC News Train.csv', index_col = 'ArticleId')"
      ],
      "execution_count": 3,
      "outputs": []
    },
    {
      "cell_type": "code",
      "metadata": {
        "colab": {
          "base_uri": "https://localhost:8080/",
          "height": 175
        },
        "id": "ug_LN6DiIhM5",
        "outputId": "7385f417-d53c-422e-e534-c0e38fb32ddb"
      },
      "source": [
        "df_train.head(3)"
      ],
      "execution_count": 4,
      "outputs": [
        {
          "output_type": "execute_result",
          "data": {
            "text/html": [
              "<div>\n",
              "<style scoped>\n",
              "    .dataframe tbody tr th:only-of-type {\n",
              "        vertical-align: middle;\n",
              "    }\n",
              "\n",
              "    .dataframe tbody tr th {\n",
              "        vertical-align: top;\n",
              "    }\n",
              "\n",
              "    .dataframe thead th {\n",
              "        text-align: right;\n",
              "    }\n",
              "</style>\n",
              "<table border=\"1\" class=\"dataframe\">\n",
              "  <thead>\n",
              "    <tr style=\"text-align: right;\">\n",
              "      <th></th>\n",
              "      <th>Text</th>\n",
              "      <th>Category</th>\n",
              "    </tr>\n",
              "    <tr>\n",
              "      <th>ArticleId</th>\n",
              "      <th></th>\n",
              "      <th></th>\n",
              "    </tr>\n",
              "  </thead>\n",
              "  <tbody>\n",
              "    <tr>\n",
              "      <th>1833</th>\n",
              "      <td>worldcom ex-boss launches defence lawyers defe...</td>\n",
              "      <td>business</td>\n",
              "    </tr>\n",
              "    <tr>\n",
              "      <th>154</th>\n",
              "      <td>german business confidence slides german busin...</td>\n",
              "      <td>business</td>\n",
              "    </tr>\n",
              "    <tr>\n",
              "      <th>1101</th>\n",
              "      <td>bbc poll indicates economic gloom citizens in ...</td>\n",
              "      <td>business</td>\n",
              "    </tr>\n",
              "  </tbody>\n",
              "</table>\n",
              "</div>"
            ],
            "text/plain": [
              "                                                        Text  Category\n",
              "ArticleId                                                             \n",
              "1833       worldcom ex-boss launches defence lawyers defe...  business\n",
              "154        german business confidence slides german busin...  business\n",
              "1101       bbc poll indicates economic gloom citizens in ...  business"
            ]
          },
          "metadata": {
            "tags": []
          },
          "execution_count": 4
        }
      ]
    },
    {
      "cell_type": "code",
      "metadata": {
        "colab": {
          "base_uri": "https://localhost:8080/",
          "height": 455
        },
        "id": "kBEVuQNrKJaU",
        "outputId": "2ab5c1a5-0481-4d76-9496-575493b48e87"
      },
      "source": [
        "df_test"
      ],
      "execution_count": 25,
      "outputs": [
        {
          "output_type": "execute_result",
          "data": {
            "text/html": [
              "<div>\n",
              "<style scoped>\n",
              "    .dataframe tbody tr th:only-of-type {\n",
              "        vertical-align: middle;\n",
              "    }\n",
              "\n",
              "    .dataframe tbody tr th {\n",
              "        vertical-align: top;\n",
              "    }\n",
              "\n",
              "    .dataframe thead th {\n",
              "        text-align: right;\n",
              "    }\n",
              "</style>\n",
              "<table border=\"1\" class=\"dataframe\">\n",
              "  <thead>\n",
              "    <tr style=\"text-align: right;\">\n",
              "      <th></th>\n",
              "      <th>Text</th>\n",
              "    </tr>\n",
              "    <tr>\n",
              "      <th>ArticleId</th>\n",
              "      <th></th>\n",
              "    </tr>\n",
              "  </thead>\n",
              "  <tbody>\n",
              "    <tr>\n",
              "      <th>1018</th>\n",
              "      <td>qpr keeper day heads for preston queens park r...</td>\n",
              "    </tr>\n",
              "    <tr>\n",
              "      <th>1319</th>\n",
              "      <td>software watching while you work software that...</td>\n",
              "    </tr>\n",
              "    <tr>\n",
              "      <th>1138</th>\n",
              "      <td>d arcy injury adds to ireland woe gordon d arc...</td>\n",
              "    </tr>\n",
              "    <tr>\n",
              "      <th>459</th>\n",
              "      <td>india s reliance family feud heats up the ongo...</td>\n",
              "    </tr>\n",
              "    <tr>\n",
              "      <th>1020</th>\n",
              "      <td>boro suffer morrison injury blow middlesbrough...</td>\n",
              "    </tr>\n",
              "    <tr>\n",
              "      <th>...</th>\n",
              "      <td>...</td>\n",
              "    </tr>\n",
              "    <tr>\n",
              "      <th>1923</th>\n",
              "      <td>eu to probe alitalia  state aid  the european ...</td>\n",
              "    </tr>\n",
              "    <tr>\n",
              "      <th>373</th>\n",
              "      <td>u2 to play at grammy awards show irish rock ba...</td>\n",
              "    </tr>\n",
              "    <tr>\n",
              "      <th>1704</th>\n",
              "      <td>sport betting rules in spotlight a group of mp...</td>\n",
              "    </tr>\n",
              "    <tr>\n",
              "      <th>206</th>\n",
              "      <td>alfa romeos  to get gm engines  fiat is to sto...</td>\n",
              "    </tr>\n",
              "    <tr>\n",
              "      <th>471</th>\n",
              "      <td>citizenship event for 18s touted citizenship c...</td>\n",
              "    </tr>\n",
              "  </tbody>\n",
              "</table>\n",
              "<p>735 rows × 1 columns</p>\n",
              "</div>"
            ],
            "text/plain": [
              "                                                        Text\n",
              "ArticleId                                                   \n",
              "1018       qpr keeper day heads for preston queens park r...\n",
              "1319       software watching while you work software that...\n",
              "1138       d arcy injury adds to ireland woe gordon d arc...\n",
              "459        india s reliance family feud heats up the ongo...\n",
              "1020       boro suffer morrison injury blow middlesbrough...\n",
              "...                                                      ...\n",
              "1923       eu to probe alitalia  state aid  the european ...\n",
              "373        u2 to play at grammy awards show irish rock ba...\n",
              "1704       sport betting rules in spotlight a group of mp...\n",
              "206        alfa romeos  to get gm engines  fiat is to sto...\n",
              "471        citizenship event for 18s touted citizenship c...\n",
              "\n",
              "[735 rows x 1 columns]"
            ]
          },
          "metadata": {
            "tags": []
          },
          "execution_count": 25
        }
      ]
    },
    {
      "cell_type": "markdown",
      "metadata": {
        "id": "jvGEUjDgIld1"
      },
      "source": [
        "all classess almost equally distributed"
      ]
    },
    {
      "cell_type": "code",
      "metadata": {
        "colab": {
          "base_uri": "https://localhost:8080/",
          "height": 568
        },
        "id": "eEcs28ehLk2K",
        "outputId": "c12c48f7-13aa-455a-9deb-e5fef94a72cb"
      },
      "source": [
        "plt.figure(figsize = (16, 9))\n",
        "sns.countplot('Category', data = df_train)"
      ],
      "execution_count": 5,
      "outputs": [
        {
          "output_type": "execute_result",
          "data": {
            "text/plain": [
              "<matplotlib.axes._subplots.AxesSubplot at 0x7ff20a0f0160>"
            ]
          },
          "metadata": {
            "tags": []
          },
          "execution_count": 5
        },
        {
          "output_type": "display_data",
          "data": {
            "image/png": "[encoded data removed]",
            "text/plain": [
              "<Figure size 1152x648 with 1 Axes>"
            ]
          },
          "metadata": {
            "tags": [],
            "needs_background": "light"
          }
        }
      ]
    },
    {
      "cell_type": "markdown",
      "metadata": {
        "id": "A3_z1bf1rr7A"
      },
      "source": [
        "# Lemmatization with POS tagging\n"
      ]
    },
    {
      "cell_type": "code",
      "metadata": {
        "id": "sVzTi9IDngy7"
      },
      "source": [
        "def get_wordnet_pos(word):\n",
        "    tag = nltk.pos_tag([word])[0][1][0].upper()\n",
        "    tag_dict = {\"J\": wordnet.ADJ,\n",
        "                \"N\": wordnet.NOUN,\n",
        "                \"V\": wordnet.VERB,\n",
        "                \"R\": wordnet.ADV}\n",
        "\n",
        "    return tag_dict.get(tag, wordnet.NOUN)\n",
        "\n",
        "lemmatizer = nltk.stem.WordNetLemmatizer()\n",
        "\n",
        "def lemmatize_text(text):\n",
        "    text = word_tokenize(text)\n",
        "    return ' '.join([lemmatizer.lemmatize(w, get_wordnet_pos(w)) for w in text])\n",
        "   # return [lemmatizer.lemmatize(w, get_wordnet_pos(w)) for w in text]\n",
        "\n",
        "df_train['text_lemmatized'] = df_train.Text.apply(lemmatize_text)\n"
      ],
      "execution_count": 6,
      "outputs": []
    },
    {
      "cell_type": "markdown",
      "metadata": {
        "id": "aIVDrI6brzhe"
      },
      "source": [
        "# Download stop words from the file"
      ]
    },
    {
      "cell_type": "code",
      "metadata": {
        "id": "J8NSDD_7oWhX"
      },
      "source": [
        "filename = 'drive/MyDrive/learn-ai-bbc/englishST.txt'\n",
        "with open(filename) as f:\n",
        "    content = f.readlines()\n",
        "content = [x.strip() for x in content] "
      ],
      "execution_count": 7,
      "outputs": []
    },
    {
      "cell_type": "markdown",
      "metadata": {
        "id": "93drAK0Yr59L"
      },
      "source": [
        "# TfIdF vectorizer"
      ]
    },
    {
      "cell_type": "code",
      "metadata": {
        "id": "SoiRObPFqMHx"
      },
      "source": [
        "from sklearn.feature_extraction.text import TfidfVectorizer\n",
        "v = TfidfVectorizer(sublinear_tf=True, min_df=5, norm='l2', encoding='latin-1', ngram_range=(1, 2), stop_words=content)\n",
        "train_tfid = v.fit_transform(df_train['Text'])\n",
        "\n",
        "\n"
      ],
      "execution_count": 8,
      "outputs": []
    },
    {
      "cell_type": "markdown",
      "metadata": {
        "id": "eQlDWG3mt0vd"
      },
      "source": [
        "# TruncatedSVD"
      ]
    },
    {
      "cell_type": "code",
      "metadata": {
        "id": "8_NqJJ_Ft3of"
      },
      "source": [
        "from sklearn.pipeline import make_pipeline\n",
        "from sklearn.preprocessing import Normalizer\n",
        "from sklearn.decomposition import TruncatedSVD\n",
        "svd = TruncatedSVD(100)\n",
        "lsa = make_pipeline(svd, Normalizer(copy=False))\n",
        "\n",
        "X_lsa = lsa.fit_transform(train_tfid)\n"
      ],
      "execution_count": 9,
      "outputs": []
    },
    {
      "cell_type": "markdown",
      "metadata": {
        "id": "RDtbO-St8xON"
      },
      "source": [
        "# Train Test split\n"
      ]
    },
    {
      "cell_type": "code",
      "metadata": {
        "id": "tS2szAUK21Ht"
      },
      "source": [
        "from sklearn.model_selection import train_test_split\n",
        "\n",
        "X_train, X_val, y_train, y_val = train_test_split(X_lsa, df_train['Category'], test_size = 0.3, shuffle = True, random_state = 42)"
      ],
      "execution_count": 10,
      "outputs": []
    },
    {
      "cell_type": "code",
      "metadata": {
        "colab": {
          "base_uri": "https://localhost:8080/"
        },
        "id": "fqtrlOlm96jZ",
        "outputId": "fa885d49-aac5-4fc2-ec68-d2b053616f41"
      },
      "source": [
        "explained_variance = svd.explained_variance_ratio_.sum()\n",
        "print(\"  Explained variance of the SVD step: {}%\".format(int(explained_variance * 100)))\n"
      ],
      "execution_count": 11,
      "outputs": [
        {
          "output_type": "stream",
          "text": [
            "  Explained variance of the SVD step: 25%\n"
          ],
          "name": "stdout"
        }
      ]
    },
    {
      "cell_type": "markdown",
      "metadata": {
        "id": "5hhCL94LUBVo"
      },
      "source": [
        "## Classification\n"
      ]
    },
    {
      "cell_type": "markdown",
      "metadata": {
        "id": "iu2D2E_y9nHl"
      },
      "source": [
        "### KNN"
      ]
    },
    {
      "cell_type": "code",
      "metadata": {
        "colab": {
          "base_uri": "https://localhost:8080/"
        },
        "id": "GUNJSArp9oHi",
        "outputId": "be3e9f0f-f61e-4095-96fe-cc4ff8236d3c"
      },
      "source": [
        "k_range = list(range(1,100))\n",
        "weight_options = [\"uniform\", \"distance\"]\n",
        "\n",
        "\n",
        "param_grid = dict(n_neighbors = k_range, weights = weight_options)\n",
        "\n",
        "knn = KNeighborsClassifier(metric = 'cosine')\n",
        "\n",
        "grid = GridSearchCV(knn, param_grid, cv = 10, scoring = 'accuracy')\n",
        "\n",
        "grid.fit(X_train, y_train)"
      ],
      "execution_count": 12,
      "outputs": [
        {
          "output_type": "execute_result",
          "data": {
            "text/plain": [
              "GridSearchCV(cv=10, error_score=nan,\n",
              "             estimator=KNeighborsClassifier(algorithm='auto', leaf_size=30,\n",
              "                                            metric='cosine', metric_params=None,\n",
              "                                            n_jobs=None, n_neighbors=5, p=2,\n",
              "                                            weights='uniform'),\n",
              "             iid='deprecated', n_jobs=None,\n",
              "             param_grid={'n_neighbors': [1, 2, 3, 4, 5, 6, 7, 8, 9, 10, 11, 12,\n",
              "                                         13, 14, 15, 16, 17, 18, 19, 20, 21, 22,\n",
              "                                         23, 24, 25, 26, 27, 28, 29, 30, ...],\n",
              "                         'weights': ['uniform', 'distance']},\n",
              "             pre_dispatch='2*n_jobs', refit=True, return_train_score=False,\n",
              "             scoring='accuracy', verbose=0)"
            ]
          },
          "metadata": {
            "tags": []
          },
          "execution_count": 12
        }
      ]
    },
    {
      "cell_type": "code",
      "metadata": {
        "id": "vMGZJcSs1jND"
      },
      "source": [
        "knn = KNeighborsClassifier(n_neighbors = grid.best_params_['n_neighbors'], weights = grid.best_params_['weights'], metric = 'cosine')"
      ],
      "execution_count": 13,
      "outputs": []
    },
    {
      "cell_type": "code",
      "metadata": {
        "colab": {
          "base_uri": "https://localhost:8080/"
        },
        "id": "eBq92IKZ9gGe",
        "outputId": "80e6a2b7-f4da-42fd-d35a-44f9498b3f64"
      },
      "source": [
        "knn.fit(X_train, y_train)"
      ],
      "execution_count": 14,
      "outputs": [
        {
          "output_type": "execute_result",
          "data": {
            "text/plain": [
              "KNeighborsClassifier(algorithm='auto', leaf_size=30, metric='cosine',\n",
              "                     metric_params=None, n_jobs=None, n_neighbors=29, p=2,\n",
              "                     weights='distance')"
            ]
          },
          "metadata": {
            "tags": []
          },
          "execution_count": 14
        }
      ]
    },
    {
      "cell_type": "code",
      "metadata": {
        "colab": {
          "base_uri": "https://localhost:8080/"
        },
        "id": "Zr0D1FlB-V2G",
        "outputId": "1f3a001b-1aad-4b7a-fde2-45e6fe22c631"
      },
      "source": [
        "knn.score(X_val, y_val)"
      ],
      "execution_count": 15,
      "outputs": [
        {
          "output_type": "execute_result",
          "data": {
            "text/plain": [
              "0.9753914988814317"
            ]
          },
          "metadata": {
            "tags": []
          },
          "execution_count": 15
        }
      ]
    },
    {
      "cell_type": "code",
      "metadata": {
        "colab": {
          "base_uri": "https://localhost:8080/"
        },
        "id": "pixFdRbXRakK",
        "outputId": "bf3e3d7d-da52-437c-f23d-6fdd2d4b25df"
      },
      "source": [
        "knn = KNeighborsClassifier(n_neighbors = grid.best_params_['n_neighbors'], weights = grid.best_params_['weights'], metric = 'cosine')\n",
        "knn.fit(train_tfid, df_train['Category'])"
      ],
      "execution_count": 16,
      "outputs": [
        {
          "output_type": "execute_result",
          "data": {
            "text/plain": [
              "KNeighborsClassifier(algorithm='auto', leaf_size=30, metric='cosine',\n",
              "                     metric_params=None, n_jobs=None, n_neighbors=29, p=2,\n",
              "                     weights='distance')"
            ]
          },
          "metadata": {
            "tags": []
          },
          "execution_count": 16
        }
      ]
    },
    {
      "cell_type": "code",
      "metadata": {
        "id": "seJaZ08brXM8"
      },
      "source": [
        "df_test = pd.read_csv('drive/MyDrive/learn-ai-bbc/BBC News Test.csv', index_col = 'ArticleId')\n",
        "df_sol = pd.read_csv('drive/MyDrive/learn-ai-bbc/BBC News Sample Solution.csv', index_col = 'ArticleId')\n",
        "test = pd.merge(df_test, df_sol, on = 'ArticleId')"
      ],
      "execution_count": 17,
      "outputs": []
    },
    {
      "cell_type": "code",
      "metadata": {
        "id": "CdsjWNoT-yaw"
      },
      "source": [
        ""
      ],
      "execution_count": null,
      "outputs": []
    },
    {
      "cell_type": "code",
      "metadata": {
        "id": "-tTmGCEIzKSp"
      },
      "source": [
        "#test['text_lemmatized'] = test.Text.apply(lemmatize_text)\n",
        "#test_df = v.transform(test['text_lemmatized'])\n",
        "test_df = v.transform(test['Text'])\n",
        "test_lsa = lsa.transform(test_df)"
      ],
      "execution_count": 18,
      "outputs": []
    },
    {
      "cell_type": "code",
      "metadata": {
        "id": "pbArVQXI-zeT"
      },
      "source": [
        "predicted = knn.predict(test_df)"
      ],
      "execution_count": 19,
      "outputs": []
    },
    {
      "cell_type": "code",
      "metadata": {
        "id": "XbAP6pzK_D_8"
      },
      "source": [
        "submission = pd.DataFrame({\n",
        "        \"ArticleId\": test.index,\n",
        "        \"Category\": predicted\n",
        "    })"
      ],
      "execution_count": 20,
      "outputs": []
    },
    {
      "cell_type": "code",
      "metadata": {
        "colab": {
          "base_uri": "https://localhost:8080/",
          "height": 269
        },
        "id": "jZ41a7UrKqzv",
        "outputId": "9d176c41-f9fe-4695-b8f8-0ce422608cb1"
      },
      "source": [
        "submission.head(7)"
      ],
      "execution_count": 23,
      "outputs": [
        {
          "output_type": "execute_result",
          "data": {
            "text/html": [
              "<div>\n",
              "<style scoped>\n",
              "    .dataframe tbody tr th:only-of-type {\n",
              "        vertical-align: middle;\n",
              "    }\n",
              "\n",
              "    .dataframe tbody tr th {\n",
              "        vertical-align: top;\n",
              "    }\n",
              "\n",
              "    .dataframe thead th {\n",
              "        text-align: right;\n",
              "    }\n",
              "</style>\n",
              "<table border=\"1\" class=\"dataframe\">\n",
              "  <thead>\n",
              "    <tr style=\"text-align: right;\">\n",
              "      <th></th>\n",
              "      <th>ArticleId</th>\n",
              "      <th>Category</th>\n",
              "    </tr>\n",
              "  </thead>\n",
              "  <tbody>\n",
              "    <tr>\n",
              "      <th>0</th>\n",
              "      <td>1018</td>\n",
              "      <td>sport</td>\n",
              "    </tr>\n",
              "    <tr>\n",
              "      <th>1</th>\n",
              "      <td>1319</td>\n",
              "      <td>tech</td>\n",
              "    </tr>\n",
              "    <tr>\n",
              "      <th>2</th>\n",
              "      <td>1138</td>\n",
              "      <td>sport</td>\n",
              "    </tr>\n",
              "    <tr>\n",
              "      <th>3</th>\n",
              "      <td>459</td>\n",
              "      <td>business</td>\n",
              "    </tr>\n",
              "    <tr>\n",
              "      <th>4</th>\n",
              "      <td>1020</td>\n",
              "      <td>sport</td>\n",
              "    </tr>\n",
              "    <tr>\n",
              "      <th>5</th>\n",
              "      <td>51</td>\n",
              "      <td>sport</td>\n",
              "    </tr>\n",
              "    <tr>\n",
              "      <th>6</th>\n",
              "      <td>2025</td>\n",
              "      <td>politics</td>\n",
              "    </tr>\n",
              "  </tbody>\n",
              "</table>\n",
              "</div>"
            ],
            "text/plain": [
              "   ArticleId  Category\n",
              "0       1018     sport\n",
              "1       1319      tech\n",
              "2       1138     sport\n",
              "3        459  business\n",
              "4       1020     sport\n",
              "5         51     sport\n",
              "6       2025  politics"
            ]
          },
          "metadata": {
            "tags": []
          },
          "execution_count": 23
        }
      ]
    },
    {
      "cell_type": "code",
      "metadata": {
        "id": "GMEpAcGq_zMD"
      },
      "source": [
        "submission.to_csv('submission.csv', index=False)"
      ],
      "execution_count": null,
      "outputs": []
    },
    {
      "cell_type": "code",
      "metadata": {
        "id": "aavaQkgv_8Ka"
      },
      "source": [
        "#trained on 70\\% of the trainine set\n",
        "#withot lemmatazation, tfidf - 96.87%\n",
        "#withot lemmatazation, lsa - 97.687%\n",
        "#lemmatization, tfifdf - 96.462\n",
        "#lemmatization, lsa - 97.006\n",
        "###################################\n",
        "#all trianing set: \n",
        "\n",
        "#lemmatization, tfifdf - 96.190\n",
        "#lemmatization, lsa - 96.734\n",
        "#without lemmatazation tfifdf = 96.870\n",
        "#without lemmatazation, lsa - 97.823"
      ],
      "execution_count": null,
      "outputs": []
    },
    {
      "cell_type": "code",
      "metadata": {
        "id": "WtBmncwd_8Sc"
      },
      "source": [
        ""
      ],
      "execution_count": null,
      "outputs": []
    }
  ]
}